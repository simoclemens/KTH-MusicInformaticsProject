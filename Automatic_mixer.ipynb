{
 "cells": [
  {
   "cell_type": "markdown",
   "metadata": {},
   "source": [
    "# DT2470 Music Informatics project\n",
    "Alice Anselmi | Simone Clemente | Stefano Scolari\n",
    "### Task and purpose of the project\n",
    "The goal of this project is to create an automatic mixer based on key and beat detection. <br>\n",
    "The core idea is to start from a series of segments and mix them in the best possible way cosidering both BPM and key similarity.\n",
    "\n",
    "### Dataset and methods\n",
    "We will work with annotated datasets in order to have ground truth for beat and key. (For instance: https://zenodo.org/record/3967852)\n",
    "Our projects aims to estimate both keys and bpm from a given segment. <br><br>\n",
    "[TODO Fill here with methods we'll actually use]\n",
    "\n",
    "\n",
    "\n"
   ]
  },
  {
   "cell_type": "markdown",
   "metadata": {},
   "source": [
    "## Data collection"
   ]
  },
  {
   "cell_type": "code",
   "execution_count": 7,
   "metadata": {},
   "outputs": [],
   "source": [
    "import numpy as np\n",
    "import librosa\n",
    "import os\n",
    "\n",
    "# Import audio files\n",
    "\n",
    "path = \"FSL10K\\\\\"\n",
    "audio_files_listdir = os.listdir(path)\n",
    "\n",
    "# Save all audio files in a list\n",
    "audios_list = np.array([])\n",
    "\n",
    "for audio_file in audio_files_listdir:\n",
    "    audio, sr = librosa.load(path + audio_file, sr=None) # preserving the original sampling rate\n",
    "    audios_list = np.append(audios_list, audio)"
   ]
  }
 ],
 "metadata": {
  "kernelspec": {
   "display_name": "Python 3",
   "language": "python",
   "name": "python3"
  },
  "language_info": {
   "codemirror_mode": {
    "name": "ipython",
    "version": 3
   },
   "file_extension": ".py",
   "mimetype": "text/x-python",
   "name": "python",
   "nbconvert_exporter": "python",
   "pygments_lexer": "ipython3",
   "version": "3.11.5"
  },
  "orig_nbformat": 4
 },
 "nbformat": 4,
 "nbformat_minor": 2
}
